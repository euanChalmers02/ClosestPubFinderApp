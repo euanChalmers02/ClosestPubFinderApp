{
 "cells": [
  {
   "cell_type": "code",
   "execution_count": 3,
   "id": "27e2c01b",
   "metadata": {},
   "outputs": [],
   "source": [
    "# Tests\n",
    "import requests\n",
    "import pandas as pd\n",
    "import json\n",
    "from bs4 import BeautifulSoup\n",
    "from geojson import Point, Feature, FeatureCollection, dump\n",
    "\n",
    "def writeToLogTable(payload):\n",
    "    response = requests.get(\"https://vrymj5ggmqf45bpqwporbcg5ie0gykwp.lambda-url.eu-west-1.on.aws/?\"+payload)"
   ]
  },
  {
   "cell_type": "code",
   "execution_count": null,
   "id": "8a0483cd",
   "metadata": {},
   "outputs": [],
   "source": [
    "# payload example = #?19762_tennents=&19762_wine=&19762_guinness="
   ]
  },
  {
   "cell_type": "code",
   "execution_count": 2,
   "id": "8855abe5",
   "metadata": {},
   "outputs": [],
   "source": [
    "def getRandomDrink():\n",
    "    response = requests.get(\"https://lg3gc7zrov3dqe5jsui4xuvgqe0lrujz.lambda-url.eu-west-1.on.aws/?drink=RANDOM\")\n",
    "    return response\n"
   ]
  },
  {
   "cell_type": "code",
   "execution_count": 102,
   "id": "d759fcd3",
   "metadata": {},
   "outputs": [
    {
     "data": {
      "text/plain": [
       "3304"
      ]
     },
     "execution_count": 102,
     "metadata": {},
     "output_type": "execute_result"
    }
   ],
   "source": [
    "# importing the local package\n",
    "import Desktop.DrinksAPI.Drinks\n",
    "\n",
    "isnt = Drinks()\n",
    "\n",
    "len(isnt.loaded_file)\n",
    "\n"
   ]
  },
  {
   "cell_type": "code",
   "execution_count": 176,
   "id": "129a6633",
   "metadata": {},
   "outputs": [],
   "source": [
    "# random uuid for logging or other non exact ids needed\n",
    "import uuid\n",
    "\n",
    "def get_random_id(size):\n",
    "    unquie_id = str(uuid.uuid4().hex)\n",
    "    return unquie_id[:size]"
   ]
  },
  {
   "cell_type": "code",
   "execution_count": 6,
   "id": "0a75f0e2",
   "metadata": {},
   "outputs": [],
   "source": [
    "import time\n",
    "\n",
    "class ATest:\n",
    "    def __init__(num,payload,):\n",
    "        self.time = time.now()\n",
    "        self.tes_num = num\n",
    "        self.payload = payload\n",
    "    \n"
   ]
  },
  {
   "cell_type": "code",
   "execution_count": 7,
   "id": "a18f5911",
   "metadata": {},
   "outputs": [
    {
     "ename": "TypeError",
     "evalue": "__init__() takes 0 positional arguments but 1 was given",
     "output_type": "error",
     "traceback": [
      "\u001b[0;31m---------------------------------------------------------------------------\u001b[0m",
      "\u001b[0;31mTypeError\u001b[0m                                 Traceback (most recent call last)",
      "Input \u001b[0;32mIn [7]\u001b[0m, in \u001b[0;36m<cell line: 1>\u001b[0;34m()\u001b[0m\n\u001b[0;32m----> 1\u001b[0m rt \u001b[38;5;241m=\u001b[39m \u001b[43mATest\u001b[49m\u001b[43m(\u001b[49m\u001b[43m)\u001b[49m\n",
      "\u001b[0;31mTypeError\u001b[0m: __init__() takes 0 positional arguments but 1 was given"
     ]
    }
   ],
   "source": [
    "rt = ATest(101,\"helolo this is the payload\")"
   ]
  },
  {
   "cell_type": "code",
   "execution_count": null,
   "id": "c5ba9045",
   "metadata": {},
   "outputs": [],
   "source": []
  }
 ],
 "metadata": {
  "kernelspec": {
   "display_name": "Python 3 (ipykernel)",
   "language": "python",
   "name": "python3"
  },
  "language_info": {
   "codemirror_mode": {
    "name": "ipython",
    "version": 3
   },
   "file_extension": ".py",
   "mimetype": "text/x-python",
   "name": "python",
   "nbconvert_exporter": "python",
   "pygments_lexer": "ipython3",
   "version": "3.9.12"
  }
 },
 "nbformat": 4,
 "nbformat_minor": 5
}
